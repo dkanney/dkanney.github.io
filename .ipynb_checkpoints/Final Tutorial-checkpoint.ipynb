{
 "cells": [
  {
   "cell_type": "markdown",
   "metadata": {},
   "source": [
    "# The Data Science Pipeline: Exploring Video Game Ratings From IGN Over the Past 10 Years"
   ]
  },
  {
   "cell_type": "markdown",
   "metadata": {},
   "source": [
    "## Introduction"
   ]
  },
  {
   "cell_type": "markdown",
   "metadata": {},
   "source": [
    "### Hello and welcome! \n",
    "This is a walkthough of the Data Science Pipeline, using Python as the language of choice. Before we begin, let's first talk about our dependencies:\n",
    ">This tutorial was created on a system running macOS. \n",
    "\n",
    ">Depending on your operating system, you may already have version of Python installed.\n",
    "\n",
    ">However, any operating system should work. For more information, visit https://www.python.org/downloads/operating-systems/\n",
    "\n",
    "### Jupyter & IPython\n",
    "If you don't already know, this github page is actually a Jupyter (IPython) notebook that allows you to document both the input and output of code with boxes of text (known as \"Markdown cells\" - http://jupyter-notebook.readthedocs.io/en/stable/examples/Notebook/Working%20With%20Markdown%20Cells.html#).<br><br>\n",
    "These cells support comment styling augmented with a lightweight and easy-to-use markup langugae (https://daringfireball.net/projects/markdown/syntax).\n",
    "\n",
    "Although not technically required, using an application that supports interactive literate programming makes the entire pipeline process far easier to document, understand, and benefit from; using one is highly recommended (especially for beginners and newcomers). \n",
    "\n",
    "> You may download Jupyter through Anaconda: http://jupyter.readthedocs.io/en/latest/install.html\n",
    "\n",
    "### Python and IPython Versions\n",
    "I am using Python version 3.6.2 and IPython version 6.1.0. You may verify your versions via\n",
    "> Help ---> About\n",
    "\n",
    "### Data\n",
    "Once you have your environment set up, you can retrieve the data. For this walkthough we will use:\n",
    "> IGN's game review data for the last 20 years (up to 2016), found here: https://www.kaggle.com/egrinstein/20-years-of-games/\n",
    "\n",
    "> Video games with sales greater than 100,000 (from vgchartz.com), found here: https://www.kaggle.com/gregorut/videogamesales/"
   ]
  },
  {
   "cell_type": "markdown",
   "metadata": {},
   "source": [
    "## Getting Started\n",
    "\n",
    "We start by importing the necessary packages, reading the data in, and parsing it into a dataframe. Now is a good time to perform any other sanitization-related tasks before we begin to form perceptions and make assumptions about the data set."
   ]
  },
  {
   "cell_type": "code",
   "execution_count": 2,
   "metadata": {
    "scrolled": true
   },
   "outputs": [
    {
     "data": {
      "text/plain": [
       "'raw_data: '"
      ]
     },
     "metadata": {},
     "output_type": "display_data"
    },
    {
     "data": {
      "text/html": [
       "<div>\n",
       "<table border=\"1\" class=\"dataframe\">\n",
       "  <thead>\n",
       "    <tr style=\"text-align: right;\">\n",
       "      <th></th>\n",
       "      <th>score_phrase</th>\n",
       "      <th>title</th>\n",
       "      <th>platform</th>\n",
       "      <th>score</th>\n",
       "      <th>editors_choice</th>\n",
       "      <th>Rank</th>\n",
       "      <th>Platform</th>\n",
       "      <th>Genre</th>\n",
       "      <th>Publisher</th>\n",
       "      <th>NA_Sales</th>\n",
       "      <th>EU_Sales</th>\n",
       "      <th>JP_Sales</th>\n",
       "      <th>Other_Sales</th>\n",
       "      <th>Global_Sales</th>\n",
       "      <th>release_date</th>\n",
       "    </tr>\n",
       "  </thead>\n",
       "  <tbody>\n",
       "    <tr>\n",
       "      <th>480</th>\n",
       "      <td>Great</td>\n",
       "      <td>PlayStation All-Stars Battle Royale</td>\n",
       "      <td>PlayStation Vita</td>\n",
       "      <td>8.0</td>\n",
       "      <td>N</td>\n",
       "      <td>3852</td>\n",
       "      <td>PSV</td>\n",
       "      <td>Action</td>\n",
       "      <td>Sony Computer Entertainment</td>\n",
       "      <td>0.26</td>\n",
       "      <td>0.15</td>\n",
       "      <td>0.01</td>\n",
       "      <td>0.10</td>\n",
       "      <td>0.52</td>\n",
       "      <td>2012-11-20</td>\n",
       "    </tr>\n",
       "    <tr>\n",
       "      <th>481</th>\n",
       "      <td>Great</td>\n",
       "      <td>PlayStation All-Stars Battle Royale</td>\n",
       "      <td>PlayStation 3</td>\n",
       "      <td>8.0</td>\n",
       "      <td>N</td>\n",
       "      <td>2153</td>\n",
       "      <td>PS3</td>\n",
       "      <td>Action</td>\n",
       "      <td>Sony Computer Entertainment</td>\n",
       "      <td>0.50</td>\n",
       "      <td>0.28</td>\n",
       "      <td>0.04</td>\n",
       "      <td>0.14</td>\n",
       "      <td>0.96</td>\n",
       "      <td>2012-11-20</td>\n",
       "    </tr>\n",
       "    <tr>\n",
       "      <th>482</th>\n",
       "      <td>Great</td>\n",
       "      <td>PlayStation All-Stars Battle Royale</td>\n",
       "      <td>PlayStation 3</td>\n",
       "      <td>8.0</td>\n",
       "      <td>N</td>\n",
       "      <td>3852</td>\n",
       "      <td>PSV</td>\n",
       "      <td>Action</td>\n",
       "      <td>Sony Computer Entertainment</td>\n",
       "      <td>0.26</td>\n",
       "      <td>0.15</td>\n",
       "      <td>0.01</td>\n",
       "      <td>0.10</td>\n",
       "      <td>0.52</td>\n",
       "      <td>2012-11-20</td>\n",
       "    </tr>\n",
       "    <tr>\n",
       "      <th>483</th>\n",
       "      <td>Mediocre</td>\n",
       "      <td>Funky Barn</td>\n",
       "      <td>Wii U</td>\n",
       "      <td>5.0</td>\n",
       "      <td>N</td>\n",
       "      <td>10129</td>\n",
       "      <td>3DS</td>\n",
       "      <td>Simulation</td>\n",
       "      <td>Ubisoft</td>\n",
       "      <td>0.07</td>\n",
       "      <td>0.03</td>\n",
       "      <td>0.00</td>\n",
       "      <td>0.01</td>\n",
       "      <td>0.11</td>\n",
       "      <td>2012-12-03</td>\n",
       "    </tr>\n",
       "    <tr>\n",
       "      <th>484</th>\n",
       "      <td>Good</td>\n",
       "      <td>Electroplankton</td>\n",
       "      <td>Nintendo DS</td>\n",
       "      <td>7.0</td>\n",
       "      <td>N</td>\n",
       "      <td>14194</td>\n",
       "      <td>DS</td>\n",
       "      <td>Misc</td>\n",
       "      <td>Nintendo</td>\n",
       "      <td>0.01</td>\n",
       "      <td>0.00</td>\n",
       "      <td>0.02</td>\n",
       "      <td>0.00</td>\n",
       "      <td>0.03</td>\n",
       "      <td>2006-01-10</td>\n",
       "    </tr>\n",
       "    <tr>\n",
       "      <th>485</th>\n",
       "      <td>Good</td>\n",
       "      <td>Mega Man X Collection</td>\n",
       "      <td>PlayStation 2</td>\n",
       "      <td>7.0</td>\n",
       "      <td>N</td>\n",
       "      <td>6779</td>\n",
       "      <td>PS2</td>\n",
       "      <td>Misc</td>\n",
       "      <td>Unknown</td>\n",
       "      <td>0.12</td>\n",
       "      <td>0.09</td>\n",
       "      <td>0.00</td>\n",
       "      <td>0.03</td>\n",
       "      <td>0.24</td>\n",
       "      <td>2006-01-05</td>\n",
       "    </tr>\n",
       "    <tr>\n",
       "      <th>486</th>\n",
       "      <td>Good</td>\n",
       "      <td>Mega Man X Collection</td>\n",
       "      <td>PlayStation 2</td>\n",
       "      <td>7.0</td>\n",
       "      <td>N</td>\n",
       "      <td>9641</td>\n",
       "      <td>GC</td>\n",
       "      <td>Misc</td>\n",
       "      <td>Capcom</td>\n",
       "      <td>0.10</td>\n",
       "      <td>0.03</td>\n",
       "      <td>0.00</td>\n",
       "      <td>0.00</td>\n",
       "      <td>0.13</td>\n",
       "      <td>2006-01-05</td>\n",
       "    </tr>\n",
       "    <tr>\n",
       "      <th>487</th>\n",
       "      <td>Good</td>\n",
       "      <td>Mega Man X Collection</td>\n",
       "      <td>GameCube</td>\n",
       "      <td>7.0</td>\n",
       "      <td>N</td>\n",
       "      <td>6779</td>\n",
       "      <td>PS2</td>\n",
       "      <td>Misc</td>\n",
       "      <td>Unknown</td>\n",
       "      <td>0.12</td>\n",
       "      <td>0.09</td>\n",
       "      <td>0.00</td>\n",
       "      <td>0.03</td>\n",
       "      <td>0.24</td>\n",
       "      <td>2006-01-05</td>\n",
       "    </tr>\n",
       "    <tr>\n",
       "      <th>488</th>\n",
       "      <td>Good</td>\n",
       "      <td>Mega Man X Collection</td>\n",
       "      <td>GameCube</td>\n",
       "      <td>7.0</td>\n",
       "      <td>N</td>\n",
       "      <td>9641</td>\n",
       "      <td>GC</td>\n",
       "      <td>Misc</td>\n",
       "      <td>Capcom</td>\n",
       "      <td>0.10</td>\n",
       "      <td>0.03</td>\n",
       "      <td>0.00</td>\n",
       "      <td>0.00</td>\n",
       "      <td>0.13</td>\n",
       "      <td>2006-01-05</td>\n",
       "    </tr>\n",
       "    <tr>\n",
       "      <th>489</th>\n",
       "      <td>Great</td>\n",
       "      <td>True Swing Golf</td>\n",
       "      <td>Nintendo DS</td>\n",
       "      <td>8.0</td>\n",
       "      <td>N</td>\n",
       "      <td>8496</td>\n",
       "      <td>DS</td>\n",
       "      <td>Sports</td>\n",
       "      <td>Nintendo</td>\n",
       "      <td>0.11</td>\n",
       "      <td>0.00</td>\n",
       "      <td>0.04</td>\n",
       "      <td>0.01</td>\n",
       "      <td>0.16</td>\n",
       "      <td>2006-01-20</td>\n",
       "    </tr>\n",
       "    <tr>\n",
       "      <th>490</th>\n",
       "      <td>Mediocre</td>\n",
       "      <td>Ape Escape Academy</td>\n",
       "      <td>PlayStation Portable</td>\n",
       "      <td>5.5</td>\n",
       "      <td>N</td>\n",
       "      <td>5463</td>\n",
       "      <td>PSP</td>\n",
       "      <td>Misc</td>\n",
       "      <td>Sony Computer Entertainment</td>\n",
       "      <td>0.13</td>\n",
       "      <td>0.15</td>\n",
       "      <td>0.00</td>\n",
       "      <td>0.05</td>\n",
       "      <td>0.33</td>\n",
       "      <td>2006-01-19</td>\n",
       "    </tr>\n",
       "    <tr>\n",
       "      <th>491</th>\n",
       "      <td>Bad</td>\n",
       "      <td>Monster Trucks DS</td>\n",
       "      <td>Nintendo DS</td>\n",
       "      <td>4.0</td>\n",
       "      <td>N</td>\n",
       "      <td>11598</td>\n",
       "      <td>DS</td>\n",
       "      <td>Racing</td>\n",
       "      <td>Majesco Entertainment</td>\n",
       "      <td>0.07</td>\n",
       "      <td>0.00</td>\n",
       "      <td>0.00</td>\n",
       "      <td>0.01</td>\n",
       "      <td>0.08</td>\n",
       "      <td>2006-01-17</td>\n",
       "    </tr>\n",
       "    <tr>\n",
       "      <th>492</th>\n",
       "      <td>Great</td>\n",
       "      <td>MVP 06 NCAA Baseball</td>\n",
       "      <td>PlayStation 2</td>\n",
       "      <td>8.5</td>\n",
       "      <td>N</td>\n",
       "      <td>2757</td>\n",
       "      <td>PS2</td>\n",
       "      <td>Sports</td>\n",
       "      <td>Electronic Arts</td>\n",
       "      <td>0.62</td>\n",
       "      <td>0.02</td>\n",
       "      <td>0.00</td>\n",
       "      <td>0.10</td>\n",
       "      <td>0.75</td>\n",
       "      <td>2006-01-13</td>\n",
       "    </tr>\n",
       "    <tr>\n",
       "      <th>493</th>\n",
       "      <td>Great</td>\n",
       "      <td>MVP 06 NCAA Baseball</td>\n",
       "      <td>PlayStation 2</td>\n",
       "      <td>8.5</td>\n",
       "      <td>N</td>\n",
       "      <td>5406</td>\n",
       "      <td>XB</td>\n",
       "      <td>Sports</td>\n",
       "      <td>Electronic Arts</td>\n",
       "      <td>0.25</td>\n",
       "      <td>0.07</td>\n",
       "      <td>0.00</td>\n",
       "      <td>0.01</td>\n",
       "      <td>0.34</td>\n",
       "      <td>2006-01-13</td>\n",
       "    </tr>\n",
       "    <tr>\n",
       "      <th>494</th>\n",
       "      <td>Great</td>\n",
       "      <td>MVP 06 NCAA Baseball</td>\n",
       "      <td>Xbox</td>\n",
       "      <td>8.7</td>\n",
       "      <td>N</td>\n",
       "      <td>2757</td>\n",
       "      <td>PS2</td>\n",
       "      <td>Sports</td>\n",
       "      <td>Electronic Arts</td>\n",
       "      <td>0.62</td>\n",
       "      <td>0.02</td>\n",
       "      <td>0.00</td>\n",
       "      <td>0.10</td>\n",
       "      <td>0.75</td>\n",
       "      <td>2006-01-13</td>\n",
       "    </tr>\n",
       "    <tr>\n",
       "      <th>495</th>\n",
       "      <td>Great</td>\n",
       "      <td>MVP 06 NCAA Baseball</td>\n",
       "      <td>Xbox</td>\n",
       "      <td>8.7</td>\n",
       "      <td>N</td>\n",
       "      <td>5406</td>\n",
       "      <td>XB</td>\n",
       "      <td>Sports</td>\n",
       "      <td>Electronic Arts</td>\n",
       "      <td>0.25</td>\n",
       "      <td>0.07</td>\n",
       "      <td>0.00</td>\n",
       "      <td>0.01</td>\n",
       "      <td>0.34</td>\n",
       "      <td>2006-01-13</td>\n",
       "    </tr>\n",
       "    <tr>\n",
       "      <th>496</th>\n",
       "      <td>Good</td>\n",
       "      <td>Wild ARMs 4</td>\n",
       "      <td>PlayStation 2</td>\n",
       "      <td>7.8</td>\n",
       "      <td>N</td>\n",
       "      <td>9025</td>\n",
       "      <td>PS2</td>\n",
       "      <td>Role-Playing</td>\n",
       "      <td>505 Games</td>\n",
       "      <td>0.07</td>\n",
       "      <td>0.06</td>\n",
       "      <td>0.00</td>\n",
       "      <td>0.02</td>\n",
       "      <td>0.14</td>\n",
       "      <td>2006-01-12</td>\n",
       "    </tr>\n",
       "    <tr>\n",
       "      <th>497</th>\n",
       "      <td>Great</td>\n",
       "      <td>Ape Escape 3</td>\n",
       "      <td>PlayStation 2</td>\n",
       "      <td>8.3</td>\n",
       "      <td>N</td>\n",
       "      <td>9507</td>\n",
       "      <td>PS2</td>\n",
       "      <td>Platform</td>\n",
       "      <td>Sony Computer Entertainment</td>\n",
       "      <td>0.06</td>\n",
       "      <td>0.05</td>\n",
       "      <td>0.00</td>\n",
       "      <td>0.02</td>\n",
       "      <td>0.13</td>\n",
       "      <td>2006-01-12</td>\n",
       "    </tr>\n",
       "    <tr>\n",
       "      <th>498</th>\n",
       "      <td>Good</td>\n",
       "      <td>PQ: Practical Intelligence Quotient</td>\n",
       "      <td>PlayStation Portable</td>\n",
       "      <td>7.4</td>\n",
       "      <td>N</td>\n",
       "      <td>11670</td>\n",
       "      <td>PSP</td>\n",
       "      <td>Puzzle</td>\n",
       "      <td>D3Publisher</td>\n",
       "      <td>0.07</td>\n",
       "      <td>0.00</td>\n",
       "      <td>0.00</td>\n",
       "      <td>0.01</td>\n",
       "      <td>0.08</td>\n",
       "      <td>2006-01-12</td>\n",
       "    </tr>\n",
       "    <tr>\n",
       "      <th>499</th>\n",
       "      <td>Great</td>\n",
       "      <td>Call of Duty 2</td>\n",
       "      <td>Wireless</td>\n",
       "      <td>8.0</td>\n",
       "      <td>N</td>\n",
       "      <td>843</td>\n",
       "      <td>X360</td>\n",
       "      <td>Shooter</td>\n",
       "      <td>Activision</td>\n",
       "      <td>1.81</td>\n",
       "      <td>0.05</td>\n",
       "      <td>0.01</td>\n",
       "      <td>0.15</td>\n",
       "      <td>2.02</td>\n",
       "      <td>2006-02-14</td>\n",
       "    </tr>\n",
       "    <tr>\n",
       "      <th>500</th>\n",
       "      <td>Great</td>\n",
       "      <td>Call of Duty 2</td>\n",
       "      <td>Wireless</td>\n",
       "      <td>8.0</td>\n",
       "      <td>N</td>\n",
       "      <td>12410</td>\n",
       "      <td>PC</td>\n",
       "      <td>Shooter</td>\n",
       "      <td>Activision</td>\n",
       "      <td>0.00</td>\n",
       "      <td>0.05</td>\n",
       "      <td>0.00</td>\n",
       "      <td>0.01</td>\n",
       "      <td>0.06</td>\n",
       "      <td>2006-02-14</td>\n",
       "    </tr>\n",
       "  </tbody>\n",
       "</table>\n",
       "</div>"
      ],
      "text/plain": [
       "    score_phrase                                title              platform  \\\n",
       "480        Great  PlayStation All-Stars Battle Royale      PlayStation Vita   \n",
       "481        Great  PlayStation All-Stars Battle Royale         PlayStation 3   \n",
       "482        Great  PlayStation All-Stars Battle Royale         PlayStation 3   \n",
       "483     Mediocre                           Funky Barn                 Wii U   \n",
       "484         Good                      Electroplankton           Nintendo DS   \n",
       "485         Good                Mega Man X Collection         PlayStation 2   \n",
       "486         Good                Mega Man X Collection         PlayStation 2   \n",
       "487         Good                Mega Man X Collection              GameCube   \n",
       "488         Good                Mega Man X Collection              GameCube   \n",
       "489        Great                      True Swing Golf           Nintendo DS   \n",
       "490     Mediocre                   Ape Escape Academy  PlayStation Portable   \n",
       "491          Bad                    Monster Trucks DS           Nintendo DS   \n",
       "492        Great                 MVP 06 NCAA Baseball         PlayStation 2   \n",
       "493        Great                 MVP 06 NCAA Baseball         PlayStation 2   \n",
       "494        Great                 MVP 06 NCAA Baseball                  Xbox   \n",
       "495        Great                 MVP 06 NCAA Baseball                  Xbox   \n",
       "496         Good                          Wild ARMs 4         PlayStation 2   \n",
       "497        Great                         Ape Escape 3         PlayStation 2   \n",
       "498         Good  PQ: Practical Intelligence Quotient  PlayStation Portable   \n",
       "499        Great                       Call of Duty 2              Wireless   \n",
       "500        Great                       Call of Duty 2              Wireless   \n",
       "\n",
       "     score editors_choice   Rank Platform         Genre  \\\n",
       "480    8.0              N   3852      PSV        Action   \n",
       "481    8.0              N   2153      PS3        Action   \n",
       "482    8.0              N   3852      PSV        Action   \n",
       "483    5.0              N  10129      3DS    Simulation   \n",
       "484    7.0              N  14194       DS          Misc   \n",
       "485    7.0              N   6779      PS2          Misc   \n",
       "486    7.0              N   9641       GC          Misc   \n",
       "487    7.0              N   6779      PS2          Misc   \n",
       "488    7.0              N   9641       GC          Misc   \n",
       "489    8.0              N   8496       DS        Sports   \n",
       "490    5.5              N   5463      PSP          Misc   \n",
       "491    4.0              N  11598       DS        Racing   \n",
       "492    8.5              N   2757      PS2        Sports   \n",
       "493    8.5              N   5406       XB        Sports   \n",
       "494    8.7              N   2757      PS2        Sports   \n",
       "495    8.7              N   5406       XB        Sports   \n",
       "496    7.8              N   9025      PS2  Role-Playing   \n",
       "497    8.3              N   9507      PS2      Platform   \n",
       "498    7.4              N  11670      PSP        Puzzle   \n",
       "499    8.0              N    843     X360       Shooter   \n",
       "500    8.0              N  12410       PC       Shooter   \n",
       "\n",
       "                       Publisher  NA_Sales  EU_Sales  JP_Sales  Other_Sales  \\\n",
       "480  Sony Computer Entertainment      0.26      0.15      0.01         0.10   \n",
       "481  Sony Computer Entertainment      0.50      0.28      0.04         0.14   \n",
       "482  Sony Computer Entertainment      0.26      0.15      0.01         0.10   \n",
       "483                      Ubisoft      0.07      0.03      0.00         0.01   \n",
       "484                     Nintendo      0.01      0.00      0.02         0.00   \n",
       "485                      Unknown      0.12      0.09      0.00         0.03   \n",
       "486                       Capcom      0.10      0.03      0.00         0.00   \n",
       "487                      Unknown      0.12      0.09      0.00         0.03   \n",
       "488                       Capcom      0.10      0.03      0.00         0.00   \n",
       "489                     Nintendo      0.11      0.00      0.04         0.01   \n",
       "490  Sony Computer Entertainment      0.13      0.15      0.00         0.05   \n",
       "491        Majesco Entertainment      0.07      0.00      0.00         0.01   \n",
       "492              Electronic Arts      0.62      0.02      0.00         0.10   \n",
       "493              Electronic Arts      0.25      0.07      0.00         0.01   \n",
       "494              Electronic Arts      0.62      0.02      0.00         0.10   \n",
       "495              Electronic Arts      0.25      0.07      0.00         0.01   \n",
       "496                    505 Games      0.07      0.06      0.00         0.02   \n",
       "497  Sony Computer Entertainment      0.06      0.05      0.00         0.02   \n",
       "498                  D3Publisher      0.07      0.00      0.00         0.01   \n",
       "499                   Activision      1.81      0.05      0.01         0.15   \n",
       "500                   Activision      0.00      0.05      0.00         0.01   \n",
       "\n",
       "     Global_Sales release_date  \n",
       "480          0.52   2012-11-20  \n",
       "481          0.96   2012-11-20  \n",
       "482          0.52   2012-11-20  \n",
       "483          0.11   2012-12-03  \n",
       "484          0.03   2006-01-10  \n",
       "485          0.24   2006-01-05  \n",
       "486          0.13   2006-01-05  \n",
       "487          0.24   2006-01-05  \n",
       "488          0.13   2006-01-05  \n",
       "489          0.16   2006-01-20  \n",
       "490          0.33   2006-01-19  \n",
       "491          0.08   2006-01-17  \n",
       "492          0.75   2006-01-13  \n",
       "493          0.34   2006-01-13  \n",
       "494          0.75   2006-01-13  \n",
       "495          0.34   2006-01-13  \n",
       "496          0.14   2006-01-12  \n",
       "497          0.13   2006-01-12  \n",
       "498          0.08   2006-01-12  \n",
       "499          2.02   2006-02-14  \n",
       "500          0.06   2006-02-14  "
      ]
     },
     "metadata": {},
     "output_type": "display_data"
    },
    {
     "data": {
      "text/plain": [
       "'len: '"
      ]
     },
     "metadata": {},
     "output_type": "display_data"
    },
    {
     "data": {
      "text/plain": [
       "13646"
      ]
     },
     "metadata": {},
     "output_type": "display_data"
    }
   ],
   "source": [
    "import pandas as pd\n",
    "from datetime import datetime\n",
    "\n",
    "\n",
    "df1 = pd.read_csv('/home/jovyan/notebooks/Final Project/dkanney.github.io/data/ign.csv')\n",
    "df2 = pd.read_csv('/home/jovyan/notebooks/Final Project/dkanney.github.io/data/vgsales.csv')\n",
    "\n",
    "\n",
    "# Restrict to games made from 2006-2016 inclusive\n",
    "df1 = df1[df1['release_year'] > 2005]\n",
    "# display('df1: ', df1[df1['title'] == 'Sonic the Hedgehog'], 'len: ', len(df1), 'df2: ', df2.head(10), 'len: ', len(df2))\n",
    "\n",
    "\n",
    "# Join the two dataframes based on video game title/Name, getting rid of anything that we don't have release date.\n",
    "raw_data = pd.merge(df1, df2, left_on='title', right_on='Name', how='inner')\n",
    "\n",
    "\n",
    "# Using release year, release month, and release day columns to create a new column for release date as a datetime object\n",
    "for i, row in raw_data.iterrows():\n",
    "    raw_data.loc[i, 'release_date'] = pd.to_datetime(str(row['release_year']) + '-' + str(row['release_month']) + '-' + str(row['release_day']))\n",
    "\n",
    "    \n",
    "# Getting rid of unsued/duplicate columns\n",
    "del raw_data['release_month']\n",
    "del raw_data['release_year']\n",
    "del raw_data['release_day']\n",
    "del raw_data['Unnamed: 0']\n",
    "del raw_data['genre']\n",
    "del raw_data['Year']\n",
    "del raw_data['Name']\n",
    "del raw_data['url']\n",
    "\n",
    "\n",
    "# Get a list of all columns that aren't numerical/quantitative/datetime, and strip them of whitespace\n",
    "for col in list(set(raw_data.columns.ravel()) - set(raw_data.describe().columns.ravel()) - set(['release_date'])):\n",
    "    raw_data[col] = raw_data[col].str.strip()\n",
    "\n",
    "    \n",
    "display('raw_data: ', raw_data.ix[480:500], 'len: ', len(raw_data))"
   ]
  },
  {
   "cell_type": "markdown",
   "metadata": {},
   "source": [
    "## Missing Data"
   ]
  },
  {
   "cell_type": "markdown",
   "metadata": {},
   "source": [
    "Let's create a function in order to assist us with finding missing (nan) values in our dataframe:"
   ]
  },
  {
   "cell_type": "code",
   "execution_count": 5,
   "metadata": {
    "collapsed": true
   },
   "outputs": [],
   "source": [
    "# Check for NaNs in the dataframe, printing 'True' (or 'False') followed by the columns with 'nan'. \n",
    "# If the user specifies True for 'printrows', all entries containing 'nan' will be printed as well.\n",
    "def check_for_nan(raw_data, printrows=False):\n",
    "    print(raw_data.isnull().values.any())\n",
    "    print(raw_data.isnull().sum())\n",
    "\n",
    "    if (printrows):\n",
    "        # Find rows containing NaNs\n",
    "        nan_rows = raw_data[raw_data.isnull().T.any().T]\n",
    "\n",
    "        for i, row in nan_rows.iterrows():\n",
    "            display(row)"
   ]
  },
  {
   "cell_type": "markdown",
   "metadata": {},
   "source": [
    "Running the next cell returns the remaining records with 'NaN' entries"
   ]
  },
  {
   "cell_type": "code",
   "execution_count": 6,
   "metadata": {
    "scrolled": false
   },
   "outputs": [
    {
     "name": "stdout",
     "output_type": "stream",
     "text": [
      "True\n",
      "score_phrase      0\n",
      "title             0\n",
      "platform          0\n",
      "score             0\n",
      "editors_choice    0\n",
      "Rank              0\n",
      "Platform          0\n",
      "Genre             0\n",
      "Publisher         7\n",
      "NA_Sales          0\n",
      "EU_Sales          0\n",
      "JP_Sales          0\n",
      "Other_Sales       0\n",
      "Global_Sales      0\n",
      "release_date      0\n",
      "dtype: int64\n"
     ]
    },
    {
     "data": {
      "text/plain": [
       "score_phrase                      Bad\n",
       "title              Sonic the Hedgehog\n",
       "platform                     Xbox 360\n",
       "score                             4.8\n",
       "editors_choice                      N\n",
       "Rank                             4147\n",
       "Platform                          PS3\n",
       "Genre                        Platform\n",
       "Publisher                         NaN\n",
       "NA_Sales                            0\n",
       "EU_Sales                         0.48\n",
       "JP_Sales                            0\n",
       "Other_Sales                         0\n",
       "Global_Sales                     0.48\n",
       "release_date      2006-11-30 00:00:00\n",
       "Name: 2455, dtype: object"
      ]
     },
     "metadata": {},
     "output_type": "display_data"
    },
    {
     "data": {
      "text/plain": [
       "score_phrase                      Bad\n",
       "title              Sonic the Hedgehog\n",
       "platform                PlayStation 3\n",
       "score                             4.2\n",
       "editors_choice                      N\n",
       "Rank                             4147\n",
       "Platform                          PS3\n",
       "Genre                        Platform\n",
       "Publisher                         NaN\n",
       "NA_Sales                            0\n",
       "EU_Sales                         0.48\n",
       "JP_Sales                            0\n",
       "Other_Sales                         0\n",
       "Global_Sales                     0.48\n",
       "release_date      2007-02-07 00:00:00\n",
       "Name: 2459, dtype: object"
      ]
     },
     "metadata": {},
     "output_type": "display_data"
    },
    {
     "data": {
      "text/plain": [
       "score_phrase                    Great\n",
       "title                    Mario Tennis\n",
       "platform                          Wii\n",
       "score                             8.5\n",
       "editors_choice                      Y\n",
       "Rank                            15264\n",
       "Platform                          3DS\n",
       "Genre                          Sports\n",
       "Publisher                         NaN\n",
       "NA_Sales                            0\n",
       "EU_Sales                            0\n",
       "JP_Sales                         0.02\n",
       "Other_Sales                         0\n",
       "Global_Sales                     0.02\n",
       "release_date      2010-06-30 00:00:00\n",
       "Name: 9305, dtype: object"
      ]
     },
     "metadata": {},
     "output_type": "display_data"
    },
    {
     "data": {
      "text/plain": [
       "score_phrase                     Good\n",
       "title                  World of Tanks\n",
       "platform                           PC\n",
       "score                             7.5\n",
       "editors_choice                      N\n",
       "Rank                            13964\n",
       "Platform                         X360\n",
       "Genre                         Shooter\n",
       "Publisher                         NaN\n",
       "NA_Sales                            0\n",
       "EU_Sales                         0.03\n",
       "JP_Sales                            0\n",
       "Other_Sales                         0\n",
       "Global_Sales                     0.04\n",
       "release_date      2011-07-21 00:00:00\n",
       "Name: 10880, dtype: object"
      ]
     },
     "metadata": {},
     "output_type": "display_data"
    },
    {
     "data": {
      "text/plain": [
       "score_phrase                    Great\n",
       "title                  World of Tanks\n",
       "platform                     Xbox 360\n",
       "score                               8\n",
       "editors_choice                      N\n",
       "Rank                            13964\n",
       "Platform                         X360\n",
       "Genre                         Shooter\n",
       "Publisher                         NaN\n",
       "NA_Sales                            0\n",
       "EU_Sales                         0.03\n",
       "JP_Sales                            0\n",
       "Other_Sales                         0\n",
       "Global_Sales                     0.04\n",
       "release_date      2014-03-26 00:00:00\n",
       "Name: 10882, dtype: object"
      ]
     },
     "metadata": {},
     "output_type": "display_data"
    },
    {
     "data": {
      "text/plain": [
       "score_phrase                 Mediocre\n",
       "title                    Stronghold 3\n",
       "platform                           PC\n",
       "score                             5.5\n",
       "editors_choice                      N\n",
       "Rank                             8505\n",
       "Platform                           PC\n",
       "Genre                        Strategy\n",
       "Publisher                         NaN\n",
       "NA_Sales                         0.06\n",
       "EU_Sales                          0.1\n",
       "JP_Sales                            0\n",
       "Other_Sales                         0\n",
       "Global_Sales                     0.16\n",
       "release_date      2011-11-04 00:00:00\n",
       "Name: 11247, dtype: object"
      ]
     },
     "metadata": {},
     "output_type": "display_data"
    },
    {
     "data": {
      "text/plain": [
       "score_phrase                              Amazing\n",
       "title             Homeworld Remastered Collection\n",
       "platform                                       PC\n",
       "score                                           9\n",
       "editors_choice                                  Y\n",
       "Rank                                        16194\n",
       "Platform                                       PC\n",
       "Genre                                    Strategy\n",
       "Publisher                                     NaN\n",
       "NA_Sales                                        0\n",
       "EU_Sales                                     0.01\n",
       "JP_Sales                                        0\n",
       "Other_Sales                                     0\n",
       "Global_Sales                                 0.01\n",
       "release_date                  2015-02-24 00:00:00\n",
       "Name: 13201, dtype: object"
      ]
     },
     "metadata": {},
     "output_type": "display_data"
    }
   ],
   "source": [
    "check_for_nan(raw_data, printrows=True)"
   ]
  },
  {
   "cell_type": "markdown",
   "metadata": {},
   "source": [
    "We now see that many of these rows contain missing/'NaN' values under 'Publisher'.\n",
    "    \n",
    "### Missing Publisher names?\n",
    "Let's begin by looking up the missing Publishers and filling in the missing data points (see specific entries above). Since there doesn't seem to be a clear pattern or reason for why this data is missing, we will assume for now that it is Missing Completely at Random (MCAR). Read more about the three types of missing data at \n",
    "    \n",
    "    https://en.wikipedia.org/wiki/Missing_data#Techniques_of_dealing_with_missing_data"
   ]
  },
  {
   "cell_type": "markdown",
   "metadata": {},
   "source": [
    "Due to the small amount of missing Publisher names, we can use this moment to learn a bit more about our data set while imputing the missing data."
   ]
  },
  {
   "cell_type": "code",
   "execution_count": 8,
   "metadata": {
    "collapsed": true
   },
   "outputs": [],
   "source": [
    "# Publisher --> 'Sega'\n",
    "# (SOURCE: https://en.wikipedia.org/wiki/Sonic_the_Hedgehog_(2006_video_game))\n",
    "raw_data.loc[2455, 'Publisher'] = 'Sega'\n",
    "raw_data.loc[2459, 'Publisher'] = 'Sega'\n",
    "\n",
    "\n",
    "# Publisher --> 'Nintendo'\n",
    "# (SOURCE: https://en.wikipedia.org/wiki/Mario_Tennis)\n",
    "raw_data.loc[9305, 'Publisher'] = 'Nintendo'\n",
    "\n",
    "\n",
    "# Publisher --> 'Wargaming'\n",
    "# (SOURCE: https://en.wikipedia.org/wiki/World_of_Tanks)\n",
    "raw_data.loc[10880, 'Publisher'] = 'Wargaming' # Initial release\n",
    "raw_data.loc[10882, 'Publisher'] = 'Wargaming' # Console edition\n",
    "\n",
    "\n",
    "# Publisher --> '7Sixty'\n",
    "# (SOURCE: https://en.wikipedia.org/wiki/Stronghold_3)\n",
    "raw_data.loc[11247, 'Publisher'] = '7Sixty'\n",
    "\n",
    "\n",
    "# Publisher --> 'Gearbox'\n",
    "# (SOURCE: http://store.steampowered.com/app/244160/Homeworld_Remastered_Collection/)\n",
    "raw_data.loc[13201, 'Publisher'] = 'Gearbox'"
   ]
  },
  {
   "cell_type": "markdown",
   "metadata": {},
   "source": [
    "Running the next cell returns the remaining records with 'NaN' entries"
   ]
  },
  {
   "cell_type": "code",
   "execution_count": 9,
   "metadata": {
    "scrolled": true
   },
   "outputs": [
    {
     "name": "stdout",
     "output_type": "stream",
     "text": [
      "False\n",
      "score_phrase      0\n",
      "title             0\n",
      "platform          0\n",
      "score             0\n",
      "editors_choice    0\n",
      "Rank              0\n",
      "Platform          0\n",
      "Genre             0\n",
      "Publisher         0\n",
      "NA_Sales          0\n",
      "EU_Sales          0\n",
      "JP_Sales          0\n",
      "Other_Sales       0\n",
      "Global_Sales      0\n",
      "release_date      0\n",
      "dtype: int64\n"
     ]
    }
   ],
   "source": [
    "check_for_nan(raw_data)"
   ]
  },
  {
   "cell_type": "markdown",
   "metadata": {},
   "source": [
    "How many Publishers are there?"
   ]
  },
  {
   "cell_type": "code",
   "execution_count": 10,
   "metadata": {},
   "outputs": [
    {
     "name": "stdout",
     "output_type": "stream",
     "text": [
      "['10TACLE Studios' '1C Company' '2D Boy' '505 Games' '5pb' '7Sixty'\n",
      " 'AQ Interactive' 'ASCII Entertainment' 'Acclaim Entertainment'\n",
      " 'Ackkstudios' 'Acquire' 'Activision' 'Activision Blizzard'\n",
      " 'Activision Value' 'Agatsuma Entertainment' 'Agetec' 'Aksys Games'\n",
      " 'Answer Software' 'Arc System Works' 'Arena Entertainment'\n",
      " 'Ascaron Entertainment GmbH' 'Aspyr' 'Atari' 'Atlus' 'Avanquest'\n",
      " 'Banpresto' 'Bethesda Softworks' 'Big Ben Interactive' 'Big Fish Games'\n",
      " 'Bigben Interactive' 'Black Bean Games' 'Blast! Entertainment Ltd'\n",
      " 'Bohemia Interactive' 'Brash Entertainment' 'CBS Electronics'\n",
      " 'CDV Software Entertainment' 'Capcom' 'Cave' 'ChunSoft' 'City Interactive'\n",
      " 'Codemasters' 'Coleco' 'Compile Heart' 'Conspiracy Entertainment'\n",
      " 'Crave Entertainment' 'Crimson Cow' 'CyberFront' 'D3Publisher'\n",
      " 'DHM Interactive' 'DSI Games' 'DTP Entertainment' 'Daedalic'\n",
      " 'Daedalic Entertainment' 'Data Design Interactive' 'Deep Silver'\n",
      " 'Destination Software, Inc' 'Destineer' 'Devolver Digital'\n",
      " 'Disney Interactive Studios' 'DreamCatcher Interactive' 'EA Games' 'ESP'\n",
      " 'Eidos Interactive' 'Electronic Arts' 'Empire Interactive' 'Ertain'\n",
      " 'Essential Games' 'Falcom Corporation' 'Flashpoint Games'\n",
      " 'Focus Home Interactive' 'From Software' 'FuRyu' 'Funbox Media' 'Funcom'\n",
      " 'Funsta' 'GOA' 'GSP' 'Game Factory' 'Game Life' 'GameTek' 'Gamebridge'\n",
      " 'Gamecock' 'Gameloft' 'Gearbox' 'Genki' 'Ghostlight'\n",
      " 'Global A Entertainment' 'Global Star' 'Graffiti' 'Griffin International'\n",
      " 'GungHo' 'Gust' 'HAL Laboratory' 'Harmonix Music Systems'\n",
      " 'Hasbro Interactive' 'Hello Games' 'Home Entertainment Suppliers'\n",
      " 'Hudson Entertainment' 'Hudson Soft' 'Iceberg Interactive' 'Idea Factory'\n",
      " 'Ignition Entertainment' 'Imagic' 'Imagineer' 'Infogrames'\n",
      " 'Insomniac Games' 'Intergrow' 'Interplay' 'Introversion Software'\n",
      " 'Irem Software Engineering' 'Ivolgamus' 'JoWood Productions' 'Just Flight'\n",
      " 'Kadokawa Shoten' 'Kalypso Media' 'Koch Media'\n",
      " 'Konami Digital Entertainment' 'LEGO Media' 'Laguna' 'Legacy Interactive'\n",
      " 'Lexicon Entertainment' 'LucasArts' 'MTV Games' 'Mad Catz'\n",
      " 'Majesco Entertainment' 'Marvelous Entertainment' 'Marvelous Interactive'\n",
      " 'Mastertronic' 'Mastiff' 'Maxis' 'Metro 3D' 'Micro Cabin' 'Microids'\n",
      " 'Microsoft Game Studios' 'Midas Interactive Entertainment' 'Midway Games'\n",
      " 'Milestone' 'Mindscape' 'Moss' 'Mumbo Jumbo' 'Myelin Media' 'NCSoft'\n",
      " 'Namco Bandai Games' 'Natsume' 'Navarre Corp' 'Neko Entertainment'\n",
      " 'Nihon Falcom Corporation' 'Nintendo' 'Nippon Ichi Software' 'Nobilis'\n",
      " 'Nordcurrent' 'Nordic Games' 'Number None' 'O-Games' 'O3 Entertainment'\n",
      " 'Ocean' 'Oxygen Interactive' 'PM Studios' 'PQube' 'Paradox Interactive'\n",
      " 'Parker Bros.' 'Performance Designed Products' 'Phantom EFX'\n",
      " 'Phoenix Games' 'Pinnacle' 'Play It' 'Playlogic Game Factory'\n",
      " 'PopCap Games' 'Popcorn Arcade' 'Psygnosis' 'Quest' 'RTL' 'Rage Software'\n",
      " 'Red Orb' 'Rising Star Games' 'Rondomedia' 'SNK' 'SNK Playmore'\n",
      " 'Scholastic Inc.' 'Screenlife' 'Sega' 'Slightly Mad Studios'\n",
      " 'Sony Computer Entertainment' 'Sony Computer Entertainment America'\n",
      " 'Sony Computer Entertainment Europe' 'Sony Online Entertainment'\n",
      " 'SouthPeak Games' 'Spike' 'Square' 'Square Enix' 'SquareSoft'\n",
      " 'Stainless Games' 'Starfish' 'Sting' 'Success' 'Sunsoft'\n",
      " 'System 3 Arcade Software' 'THQ' 'Taito' 'Takara' 'Takara Tomy'\n",
      " 'Take-Two Interactive' 'Team17 Software' 'Technos Japan Corporation'\n",
      " 'Tecmo Koei' 'Telegames' 'Telltale Games' 'The Adventure Company'\n",
      " 'Tigervision' 'Tommo' 'Tomy Corporation' 'TopWare Interactive'\n",
      " 'Touchstone' 'Trion Worlds' 'Tripwire Interactive' 'Tru Blu Entertainment'\n",
      " 'UFO Interactive' 'Ubisoft' 'Ubisoft Annecy' 'Universal Interactive'\n",
      " 'Unknown' 'Valcon Games' 'ValuSoft' 'Valve' 'Valve Software'\n",
      " 'Vir2L Studios' 'Virgin Interactive' 'Vivendi Games' 'Warashi' 'Wargaming'\n",
      " 'Wargaming.net' 'Warner Bros. Interactive Entertainment'\n",
      " 'White Park Bay Software' 'XS Games' 'Xplosiv' 'Xseed Games'\n",
      " 'Yacht Club Games' \"Yuke's\" 'Zoo Digital Publishing' 'Zoo Games'\n",
      " 'Zushi Games' 'bitComposer Games' 'id Software' 'inXile Entertainment']\n"
     ]
    }
   ],
   "source": [
    "tmp = raw_data.Publisher.unique()\n",
    "tmp.sort()\n",
    "print(tmp)"
   ]
  },
  {
   "cell_type": "markdown",
   "metadata": {},
   "source": [
    "There appears to be Publishers with similar strings (i.e. 'Valve' and 'Valve Software'). We can group these together to simplify analysis -- within reason."
   ]
  },
  {
   "cell_type": "code",
   "execution_count": 11,
   "metadata": {
    "collapsed": true
   },
   "outputs": [],
   "source": [
    "for i in raw_data[raw_data['Publisher'] == 'Valve Software'].index:\n",
    "    raw_data.loc[i, 'Publisher'] = 'Valve'"
   ]
  },
  {
   "cell_type": "markdown",
   "metadata": {},
   "source": [
    "Furthermore, there are ‘Unknown' Publishers for games with valid Publishers (e.g. Mega Man X Collection (2006)) <br>\n",
    "To fix this, let's create a new function that finds game titles with an 'Unknown' Publsher. We may then use this function to fill in the unknown values with valid publisher strings (either already present for the title, or found online). <br><br>"
   ]
  },
  {
   "cell_type": "code",
   "execution_count": 15,
   "metadata": {},
   "outputs": [
    {
     "data": {
      "text/plain": [
       "{'Afrika': Int64Index([8321], dtype='int64'),\n",
       " 'Backbreaker': Int64Index([9442, 9443, 9444, 9445], dtype='int64'),\n",
       " 'Baten Kaitos Origins': Int64Index([1866], dtype='int64'),\n",
       " 'Bejeweled 3': Int64Index([10146, 10147, 10148, 10150, 10151, 10152], dtype='int64'),\n",
       " 'Blitz: The League': Int64Index([2425], dtype='int64'),\n",
       " 'Bookworm': Int64Index([4547, 4549, 4551, 4553], dtype='int64'),\n",
       " 'Clue / Mouse Trap / Perfection / Aggravation': Int64Index([4784], dtype='int64'),\n",
       " 'College Hoops 2K6': Int64Index([854], dtype='int64'),\n",
       " 'Drill Dozer': Int64Index([568], dtype='int64'),\n",
       " 'Dungeon Defenders': Int64Index([11208, 11209, 11210], dtype='int64'),\n",
       " 'Final Fantasy XI': Int64Index([959], dtype='int64'),\n",
       " \"Flip's Twisted World\": Int64Index([10025], dtype='int64'),\n",
       " 'Guilty Gear XX Accent Core': Int64Index([3729, 3731], dtype='int64'),\n",
       " 'Jurassic Park: The Game': Int64Index([11276, 11277], dtype='int64'),\n",
       " 'Legacy of Ys: Books I & II': Int64Index([7144], dtype='int64'),\n",
       " 'Madden NFL 07': Int64Index([1413, 1422, 1431, 1440, 1449, 1458, 1467, 1476, 1485, 1494], dtype='int64'),\n",
       " 'Madden NFL 11': Int64Index([9530, 9535, 9540, 9545, 9550], dtype='int64'),\n",
       " 'Majesty 2: The Fantasy Kingdom Sim': Int64Index([8071], dtype='int64'),\n",
       " 'Major League Baseball 2K6': Int64Index([882, 887, 892, 897, 902], dtype='int64'),\n",
       " 'Major League Baseball 2K8': Int64Index([5000, 5005, 5010, 5015, 5020], dtype='int64'),\n",
       " 'Max & the Magic Marker': Int64Index([9029, 9030, 9031, 9032, 9033, 9034, 9035, 9036], dtype='int64'),\n",
       " 'Mega Man X Collection': Int64Index([485, 487], dtype='int64'),\n",
       " 'Mountain Bike Adrenaline': Int64Index([4752], dtype='int64'),\n",
       " 'Nicktoons: Battle for Volcano Island': Int64Index([2099], dtype='int64'),\n",
       " 'Otomedius Excellent': Int64Index([11263], dtype='int64'),\n",
       " 'Payout Poker & Casino': Int64Index([1946], dtype='int64'),\n",
       " 'Power Gig: Rise of the SixString': Int64Index([10130, 10131, 10132, 10133], dtype='int64'),\n",
       " 'Rhythm Heaven': Int64Index([7271], dtype='int64'),\n",
       " 'Rock Revolution': Int64Index([6328, 6330, 6332, 6334, 6336, 6338], dtype='int64'),\n",
       " 'Rocksmith': Int64Index([11123, 11126], dtype='int64'),\n",
       " 'Shorts': Int64Index([8192], dtype='int64'),\n",
       " 'Singularity': Int64Index([9364, 9365, 9367, 9368, 9370, 9371], dtype='int64'),\n",
       " 'Steal Princess': Int64Index([7697], dtype='int64'),\n",
       " 'Teen Titans': Int64Index([1213, 1216], dtype='int64'),\n",
       " 'Terraria': Int64Index([10629, 10637, 10645, 10653], dtype='int64'),\n",
       " 'The Binding of Isaac': Int64Index([11086], dtype='int64'),\n",
       " 'The Golf Club': Int64Index([12823, 12824], dtype='int64'),\n",
       " 'Trauma Team': Int64Index([9170], dtype='int64'),\n",
       " 'Two Worlds II': Int64Index([10248, 10249, 10250, 10251, 10252, 10253, 10254, 10255, 10256], dtype='int64'),\n",
       " 'Wheel of Fortune': Int64Index([7331], dtype='int64')}"
      ]
     },
     "execution_count": 15,
     "metadata": {},
     "output_type": "execute_result"
    }
   ],
   "source": [
    "raw_data[raw_data['Publisher'] == 'Unknown'].groupby('title').groups"
   ]
  },
  {
   "cell_type": "code",
   "execution_count": 17,
   "metadata": {
    "scrolled": false
   },
   "outputs": [],
   "source": [
    "# This function finds game titles with an 'Unknown' Publsher. \n",
    "# This function then fills in the 'Unknown' value with a Publisher string already present for the title.\n",
    "# If no other (or more than 1) Publisher string is present for the game, we leave it alone.\n",
    "# def find_unknown_publishers(raw_data):\n",
    "#     result = {}\n",
    "    \n",
    "    # Find games with unknown Publishers and group them by title\n",
    "#     g = raw_data[raw_data['Publisher'] == 'Unknown'].groupby('title').groups\n",
    "    \n",
    "    # For each (title, index) pair\n",
    "#     for game in g:\n",
    "#         result[game] = []\n",
    "\n",
    "        # For each index of this game\n",
    "#         for i, row in raw_data[raw_data['title'] == game].iterrows():\n",
    "            \n",
    "            \n",
    "            \n",
    "            \n",
    "#             print('!!! Row: ', raw_data[raw_data['title'] == game])\n",
    "            # Only one entry for this game\n",
    "#             if  len(raw_data[raw_data['title'] == game]) < 2:\n",
    "#                 print('**** Only 1 entry for \"' + game + '\": ****')\n",
    "            \n",
    "            \n",
    "            # More than one entry exists for this game\n",
    "#             else:\n",
    "\n",
    "        # If more than 1 KNOWN publisher exists for this game (e.g. {'Unknown', Publisher A, Publisher B})\n",
    "#         if len(raw_data[raw_data['title'] == game]['Publisher'].unique()) > 2:\n",
    "#             print('ALERT!!!!!!! MORE THAN 1 PUBLISHER EXISTS FOR THIS TITLE.')\n",
    "#         else:\n",
    "#             print('Publishers for ', game, ': ', raw_data[raw_data['title'] == game]['Publisher'].unique(), '\\n') if len(raw_data[raw_data['title'] == game]['Publisher'].unique()) > 1 else print('')\n",
    "            \n",
    "            # Only one recorded publisher for this game\n",
    "#             for p in raw_data[raw_data['title'] == game]['Publisher'].unique():\n",
    "#                 if p not in 'Unknown':\n",
    "#                     raw_data.loc[i, 'Publisher'] = p\n",
    "                \n",
    "                \n",
    "#         display(raw_data[raw_data['title'] == game])\n",
    "        \n",
    "#         Print all unique Publisher strings for this game\n",
    "#         print('Unique Publishers for ', game, ': ', raw_data[raw_data['title'] == game]['Publisher'].unique(), '\\n')\n",
    "        \n"
   ]
  },
  {
   "cell_type": "code",
   "execution_count": 18,
   "metadata": {
    "scrolled": false
   },
   "outputs": [],
   "source": [
    "# find_unknown_publishers(raw_data)"
   ]
  },
  {
   "cell_type": "code",
   "execution_count": null,
   "metadata": {
    "collapsed": true
   },
   "outputs": [],
   "source": [
    "# (SOURCE: https://en.wikipedia.org/wiki/Major_League_Baseball_2K6)\n",
    "# raw_data[raw_data['title'] == Major_League_Baseball_2K6] = "
   ]
  },
  {
   "cell_type": "markdown",
   "metadata": {},
   "source": [
    "Exploratory Data Analysis"
   ]
  },
  {
   "cell_type": "markdown",
   "metadata": {},
   "source": [
    "### Plotting Top Publishers"
   ]
  },
  {
   "cell_type": "markdown",
   "metadata": {},
   "source": [
    "Let's look at some visualizations of our data set. We can try several plots in order to obtain a more nuanced understanding of our data set."
   ]
  },
  {
   "cell_type": "markdown",
   "metadata": {},
   "source": [
    "### The 15 Most Reviewed Publishers (IGN)"
   ]
  },
  {
   "cell_type": "code",
   "execution_count": 116,
   "metadata": {},
   "outputs": [
    {
     "data": {
      "image/png": "[encoded data removed]",
      "text/plain": [
       "<matplotlib.figure.Figure at 0x7fb2b0841278>"
      ]
     },
     "metadata": {},
     "output_type": "display_data"
    }
   ],
   "source": [
    "raw_data['Publisher'].value_counts()[:15].plot(kind='pie',autopct='%1.1f%%',shadow=False,explode=[0.15,0.12,0.15,0.18,0.2,0.2,0.2,0.2,0.2,0.2,0.2,0.2,0.2,0.18,0.15])\n",
    "plt.title('Publishers IGN Reviewed the Most (%)')\n",
    "fig = plt.gcf().set_size_inches(8.5,8.5)\n",
    "plt.show()"
   ]
  },
  {
   "cell_type": "markdown",
   "metadata": {},
   "source": [
    "### Highest Sales in North America"
   ]
  },
  {
   "cell_type": "code",
   "execution_count": 136,
   "metadata": {},
   "outputs": [
    {
     "data": {
      "text/plain": [
       "Publisher\n",
       "Electronic Arts                1088.59\n",
       "Sony Computer Entertainment     148.19\n",
       "Midway Games                     31.82\n",
       "Arena Entertainment              14.60\n",
       "Crave Entertainment               5.81\n",
       "Touchstone                        3.24\n",
       "City Interactive                  2.54\n",
       "Xplosiv                           1.36\n",
       "NCSoft                            0.95\n",
       "Compile Heart                     0.68\n",
       "Takara Tomy                       0.49\n",
       "Myelin Media                      0.36\n",
       "Black Bean Games                  0.21\n",
       "Success                           0.18\n",
       "White Park Bay Software           0.13\n",
       "Big Ben Interactive               0.10\n",
       "Milestone                         0.08\n",
       "Paradox Interactive               0.06\n",
       "Taito                             0.05\n",
       "SNK Playmore                      0.03\n",
       "Introversion Software             0.01\n",
       "1C Company                        0.00\n",
       "Wargaming.net                     0.00\n",
       "ChunSoft                          0.00\n",
       "Daedalic Entertainment            0.00\n",
       "Name: NA_Sales, dtype: float64"
      ]
     },
     "execution_count": 136,
     "metadata": {},
     "output_type": "execute_result"
    }
   ],
   "source": [
    "NA_Sales = raw_data.groupby('Publisher').sum()['NA_Sales'].copy()\n",
    "NA_Sales.sort_values()[::-15]\n",
    "\n",
    "NA_Sales.sort_values()[::-15].plot(kind='pie',autopct='%1.11f%%',shadow=False,explode=[0.15,0.12,0.15,0.18,0.2,0.2,0.2,0.2,0.18,0.15])\n",
    "plt.title('Highest Sales in North America')\n",
    "fig = plt.gcf().set_size_inches(8.5,8.5)\n",
    "plt.show()"
   ]
  },
  {
   "cell_type": "markdown",
   "metadata": {},
   "source": [
    "### Highest Sales Globally"
   ]
  },
  {
   "cell_type": "code",
   "execution_count": null,
   "metadata": {
    "collapsed": true
   },
   "outputs": [],
   "source": [
    "raw_data['Publisher'].value_counts()[:15].plot(kind='pie',autopct='%1.1f%%',shadow=False,explode=[0.15,0.12,0.15,0.18,0.2,0.2,0.2,0.2,0.2,0.2,0.2,0.2,0.2,0.18,0.15])\n",
    "plt.title('Publishers IGN Reviewed the Most (%)')\n",
    "fig = plt.gcf().set_size_inches(8.5,8.5)\n",
    "plt.show()\n",
    "\n",
    "\n",
    "# raw_data['Global_Sales'].value_counts()"
   ]
  },
  {
   "cell_type": "code",
   "execution_count": 54,
   "metadata": {},
   "outputs": [
    {
     "name": "stdout",
     "output_type": "stream",
     "text": [
      "[0.0, 0.02, 0.04, 0.06, 0.08, 0.1, 0.12, 0.14, 0.16, 0.18, 0.2, 0.22, 0.24, 0.26, 0.28]\n"
     ]
    }
   ],
   "source": [
    "# import matplotlib.pyplot as plt\n",
    "# import seaborn as sns\n",
    "# plt.style.use('fivethirtyeight')\n",
    "\n",
    "# raw_data['Genre'].value_counts()[:10].plot(kind='pie',autopct='%1.1f%%',shadow=True,explode=[0.15,0,0,0,0,0,0,0,0,0])\n",
    "# plt.title('Distribution Of Top Genre\"s')\n",
    "# fig=plt.gcf()\n",
    "# fig.set_size_inches(7,7)\n",
    "# plt.show()\n",
    "\n"
   ]
  },
  {
   "cell_type": "markdown",
   "metadata": {},
   "source": []
  },
  {
   "cell_type": "markdown",
   "metadata": {},
   "source": []
  },
  {
   "cell_type": "markdown",
   "metadata": {},
   "source": []
  },
  {
   "cell_type": "markdown",
   "metadata": {},
   "source": [
    "    You have reached the end of the Tutorial."
   ]
  },
  {
   "cell_type": "code",
   "execution_count": 1,
   "metadata": {
    "collapsed": true
   },
   "outputs": [],
   "source": [
    "# import math\n",
    "# import sklearn\n",
    "# import numpy as np\n",
    "# import pandas as pd\n",
    "# import seaborn as sns\n",
    "# import matplotlib.pyplot as plt\n",
    "# from sklearn import linear_model, datasets\n",
    "# import statsmodels.api as sm_api\n",
    "# import statsmodels.formula.api as sm\n",
    "# from statsmodels.api import add_constant\n",
    "# from sklearn.preprocessing import PolynomialFeatures\n",
    "# from ggplot import aes, geom_violin, geom_point, geom_boxplot, geom_line, labs, ggplot\n",
    "\n",
    "\n",
    "# df = pd.read_csv(\"https://raw.githubusercontent.com/jennybc/gapminder/master/data-raw/08_gap-every-five-years.tsv\", sep='\\t')\n",
    "# df"
   ]
  }
 ],
 "metadata": {
  "kernelspec": {
   "display_name": "Python 3",
   "language": "python",
   "name": "python3"
  },
  "language_info": {
   "codemirror_mode": {
    "name": "ipython",
    "version": 3
   },
   "file_extension": ".py",
   "mimetype": "text/x-python",
   "name": "python",
   "nbconvert_exporter": "python",
   "pygments_lexer": "ipython3",
   "version": "3.6.2"
  }
 },
 "nbformat": 4,
 "nbformat_minor": 2
}
